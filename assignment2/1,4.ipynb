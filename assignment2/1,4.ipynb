{
 "cells": [
  {
   "cell_type": "code",
   "execution_count": 2,
   "metadata": {},
   "outputs": [
    {
     "name": "stdout",
     "output_type": "stream",
     "text": [
      "Selected features: ['sex' 'bmi' 'bp' 's1' 's3' 's5' 's6']\n",
      "Mean Squared Error with selected features: 2775.184056357289\n"
     ]
    }
   ],
   "source": [
    "# Murat Nargiza\n",
    "from sklearn.datasets import load_diabetes\n",
    "from sklearn.model_selection import train_test_split\n",
    "from sklearn.linear_model import Lasso\n",
    "from sklearn.metrics import mean_squared_error\n",
    "import numpy as np\n",
    "import pandas as pd\n",
    "\n",
    "diabetes = load_diabetes()\n",
    "X = diabetes.data\n",
    "y = diabetes.target\n",
    "feature_names = diabetes.feature_names\n",
    "\n",
    "X_train, X_test, y_train, y_test = train_test_split(X, y, test_size=0.3, random_state=42)\n",
    "\n",
    "lasso = Lasso(alpha=0.1)  \n",
    "lasso.fit(X_train, y_train)\n",
    "\n",
    "coefficients = lasso.coef_\n",
    "selected_features = np.array(feature_names)[coefficients != 0]\n",
    "\n",
    "X_train_selected = X_train[:, coefficients != 0]\n",
    "X_test_selected = X_test[:, coefficients != 0]\n",
    "\n",
    "lasso_selected = Lasso(alpha=0.1)\n",
    "lasso_selected.fit(X_train_selected, y_train)\n",
    "\n",
    "y_pred = lasso_selected.predict(X_test_selected)\n",
    "mse = mean_squared_error(y_test, y_pred)\n",
    "\n",
    "print(\"Selected features:\", selected_features)\n",
    "print(\"Mean Squared Error with selected features:\", mse)"
   ]
  },
  {
   "cell_type": "code",
   "execution_count": null,
   "metadata": {},
   "outputs": [],
   "source": []
  }
 ],
 "metadata": {
  "kernelspec": {
   "display_name": "Python 3 (ipykernel)",
   "language": "python",
   "name": "python3"
  },
  "language_info": {
   "codemirror_mode": {
    "name": "ipython",
    "version": 3
   },
   "file_extension": ".py",
   "mimetype": "text/x-python",
   "name": "python",
   "nbconvert_exporter": "python",
   "pygments_lexer": "ipython3",
   "version": "3.12.4"
  },
  "vscode": {
   "interpreter": {
    "hash": "aee8b7b246df8f9039afb4144a1f6fd8d2ca17a180786b69acc140d282b71a49"
   }
  }
 },
 "nbformat": 4,
 "nbformat_minor": 4
}
